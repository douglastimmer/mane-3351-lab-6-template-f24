{
 "cells": [
  {
   "cell_type": "markdown",
   "id": "7ad9756e",
   "metadata": {},
   "source": [
    "#### MANE 3351\n",
    "## Fall 2024\n",
    "## Lab Six\n",
    "### Your Name"
   ]
  },
  {
   "cell_type": "code",
   "execution_count": null,
   "id": "1821927f",
   "metadata": {},
   "outputs": [],
   "source": [
    "# Cell 2 (code)"
   ]
  }
 ],
 "metadata": {
  "kernelspec": {
   "display_name": "Python 3 (ipykernel)",
   "language": "python",
   "name": "python3"
  },
  "language_info": {
   "codemirror_mode": {
    "name": "ipython",
    "version": 3
   },
   "file_extension": ".py",
   "mimetype": "text/x-python",
   "name": "python",
   "nbconvert_exporter": "python",
   "pygments_lexer": "ipython3",
   "version": "3.12.4"
  }
 },
 "nbformat": 4,
 "nbformat_minor": 5
}
